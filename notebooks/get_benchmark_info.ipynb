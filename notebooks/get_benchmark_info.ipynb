{
 "cells": [
  {
   "cell_type": "code",
   "execution_count": 12,
   "id": "df77e4d0",
   "metadata": {},
   "outputs": [],
   "source": [
    "\n",
    "import os\n",
    "\n",
    "benchmark_dir_path = '../instances/sat-instances-for-small-tests'\n",
    "\n",
    "file_names = next(os.walk(benchmark_dir_path))[2]\n",
    "out_file = open('meta_data.csv', 'w')\n",
    "out_file.write(\"name\\tvariables\\tclauses\\n\")\n",
    "for file_name in file_names:\n",
    "    file = open(f\"{benchmark_dir_path}/{file_name}\")\n",
    "    for line in file:\n",
    "        if line[0] != 'p':\n",
    "            continue\n",
    "        \n",
    "        words = line.replace(\"\\n\", '').split(' ')\n",
    "        out_file.write(f\"{file_name}\\t{words[2]}\\t{words[3]}\\n\")\n",
    "        break\n",
    "        \n"
   ]
  }
 ],
 "metadata": {
  "kernelspec": {
   "display_name": ".venv",
   "language": "python",
   "name": "python3"
  },
  "language_info": {
   "codemirror_mode": {
    "name": "ipython",
    "version": 3
   },
   "file_extension": ".py",
   "mimetype": "text/x-python",
   "name": "python",
   "nbconvert_exporter": "python",
   "pygments_lexer": "ipython3",
   "version": "3.12.3"
  }
 },
 "nbformat": 4,
 "nbformat_minor": 5
}
