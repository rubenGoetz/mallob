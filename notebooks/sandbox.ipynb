{
 "cells": [
  {
   "cell_type": "code",
   "execution_count": 1,
   "id": "dd5eadbb",
   "metadata": {},
   "outputs": [],
   "source": [
    "import pandas as pd\n",
    "import os\n",
    "import re\n",
    "from utils import *"
   ]
  },
  {
   "cell_type": "code",
   "execution_count": 18,
   "id": "98d1d315",
   "metadata": {},
   "outputs": [
    {
     "data": {
      "text/plain": [
       "0.07"
      ]
     },
     "execution_count": 18,
     "metadata": {},
     "output_type": "execute_result"
    }
   ],
   "source": [
    "def get_runtime(log):\n",
    "    runtime = 0.\n",
    "    # Mallob style output\n",
    "    s = re.search(\"RESPONSE_TIME #[0-9]+ ([0-9]+.[0-9]+)\", log)\n",
    "    if s:\n",
    "        runtime = float(s.groups()[0])\n",
    "        return runtime\n",
    "    # Gimsatul style output\n",
    "    s = re.search(\"c wall-clock-time:( )+([0-9]+.[0-9]+)\", log)\n",
    "    if s:\n",
    "        runtime = float(s.groups()[1])\n",
    "        return runtime\n",
    "    # Kissat style output\n",
    "    s = re.search(\"c process-time:(.)+ ([0-9]+.[0-9]+) seconds\", log)\n",
    "    if s:\n",
    "        runtime = float(s.groups()[1])\n",
    "        return runtime\n",
    "    return 0\n",
    "\n",
    "log = open('../logs_serial/iso-brn100.shuffled-as.sat05-3025.cnf/out_file').read()\n",
    "get_runtime(log)\n"
   ]
  }
 ],
 "metadata": {
  "kernelspec": {
   "display_name": ".venv",
   "language": "python",
   "name": "python3"
  },
  "language_info": {
   "codemirror_mode": {
    "name": "ipython",
    "version": 3
   },
   "file_extension": ".py",
   "mimetype": "text/x-python",
   "name": "python",
   "nbconvert_exporter": "python",
   "pygments_lexer": "ipython3",
   "version": "3.12.3"
  }
 },
 "nbformat": 4,
 "nbformat_minor": 5
}
