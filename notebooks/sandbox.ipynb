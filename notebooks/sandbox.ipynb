{
 "cells": [
  {
   "cell_type": "code",
   "execution_count": 2,
   "id": "dd5eadbb",
   "metadata": {},
   "outputs": [],
   "source": [
    "import pandas as pd\n",
    "import os\n",
    "import re\n",
    "from utils import *"
   ]
  },
  {
   "cell_type": "code",
   "execution_count": 6,
   "id": "98d1d315",
   "metadata": {},
   "outputs": [],
   "source": [
    "def create_benchmark_file(path):\n",
    "    benchmarks = next(os.walk(path))[1]\n",
    "    file = open('benchmarks', 'w')\n",
    "    for name in benchmarks:\n",
    "        if name == 'context':\n",
    "            continue\n",
    "        file.write(f\"/nfs/share/instances/sat_instances/sat_instances_2023/{name}\\n\")\n",
    "    file.close()\n",
    "\n",
    "create_benchmark_file('../logs_kissat')"
   ]
  }
 ],
 "metadata": {
  "kernelspec": {
   "display_name": ".venv",
   "language": "python",
   "name": "python3"
  },
  "language_info": {
   "codemirror_mode": {
    "name": "ipython",
    "version": 3
   },
   "file_extension": ".py",
   "mimetype": "text/x-python",
   "name": "python",
   "nbconvert_exporter": "python",
   "pygments_lexer": "ipython3",
   "version": "3.12.3"
  }
 },
 "nbformat": 4,
 "nbformat_minor": 5
}
